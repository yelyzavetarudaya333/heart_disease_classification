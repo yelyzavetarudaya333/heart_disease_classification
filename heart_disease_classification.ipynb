{
 "cells": [
  {
   "cell_type": "markdown",
   "id": "d17f1790",
   "metadata": {},
   "source": [
    "# Heart Disease Classification "
   ]
  },
  {
   "cell_type": "markdown",
   "id": "7f8e9245",
   "metadata": {},
   "source": [
    "In this project I will apply different ML models to the UCI Heart Disease Dataset from Kaggle https://www.kaggle.com/datasets/redwankarimsony/heart-disease-data. \n",
    "\n",
    "### The problem statement:\n",
    "> to predict based on the given attributes of a patient that whether that particular person has heart disease or not and other is the experimental task to diagnose."
   ]
  },
  {
   "cell_type": "markdown",
   "id": "baeedc2a",
   "metadata": {},
   "source": [
    "### The goal of this project:\n",
    " * practice building logistic regression, support vector classifier and decision tree using Scikit-learn;\n",
    " * compare these models on this particular task;\n",
    " * try implementing GridSearchCV on SVC;\n",
    " * try implementing cost complexity pruning on decision tree and visualize different alphas. "
   ]
  },
  {
   "cell_type": "markdown",
   "id": "45ba4a62",
   "metadata": {},
   "source": [
    "# Steps:\n",
    "\n",
    "   * **Data Preprocessing**\n",
    "   * **Logistic Regression**\n",
    "   * **Support Vector Classifier**\n",
    "   * **Decision Tree Classifier**\n",
    "   * **Cost Complexity Pruning**"
   ]
  },
  {
   "cell_type": "markdown",
   "id": "1adddcfe",
   "metadata": {},
   "source": [
    "### Import libraries"
   ]
  },
  {
   "cell_type": "code",
   "execution_count": 2,
   "id": "0a4d3012",
   "metadata": {},
   "outputs": [],
   "source": [
    "import pandas as pd\n",
    "import numpy as np\n",
    "import matplotlib.pyplot as plt\n",
    "import seaborn as sns\n",
    "from sklearn.linear_model import LogisticRegression\n",
    "from sklearn.svm import SVC\n",
    "from sklearn.tree import DecisionTreeClassifier\n",
    "from sklearn.tree import plot_tree\n",
    "from sklearn.model_selection import train_test_split\n",
    "from sklearn.model_selection import cross_val_score\n",
    "from sklearn.model_selection import GridSearchCV\n",
    "from sklearn.metrics import confusion_matrix\n",
    "from sklearn.metrics import plot_confusion_matrix"
   ]
  },
  {
   "cell_type": "markdown",
   "id": "91ef938c",
   "metadata": {},
   "source": [
    "## Import the data"
   ]
  },
  {
   "cell_type": "code",
   "execution_count": 3,
   "id": "32c04c1a",
   "metadata": {},
   "outputs": [
    {
     "data": {
      "text/html": [
       "<div>\n",
       "<style scoped>\n",
       "    .dataframe tbody tr th:only-of-type {\n",
       "        vertical-align: middle;\n",
       "    }\n",
       "\n",
       "    .dataframe tbody tr th {\n",
       "        vertical-align: top;\n",
       "    }\n",
       "\n",
       "    .dataframe thead th {\n",
       "        text-align: right;\n",
       "    }\n",
       "</style>\n",
       "<table border=\"1\" class=\"dataframe\">\n",
       "  <thead>\n",
       "    <tr style=\"text-align: right;\">\n",
       "      <th></th>\n",
       "      <th>0</th>\n",
       "      <th>1</th>\n",
       "      <th>2</th>\n",
       "      <th>3</th>\n",
       "      <th>4</th>\n",
       "      <th>5</th>\n",
       "      <th>6</th>\n",
       "      <th>7</th>\n",
       "      <th>8</th>\n",
       "      <th>9</th>\n",
       "      <th>10</th>\n",
       "      <th>11</th>\n",
       "      <th>12</th>\n",
       "      <th>13</th>\n",
       "    </tr>\n",
       "  </thead>\n",
       "  <tbody>\n",
       "    <tr>\n",
       "      <th>0</th>\n",
       "      <td>63.0</td>\n",
       "      <td>1.0</td>\n",
       "      <td>1.0</td>\n",
       "      <td>145.0</td>\n",
       "      <td>233.0</td>\n",
       "      <td>1.0</td>\n",
       "      <td>2.0</td>\n",
       "      <td>150.0</td>\n",
       "      <td>0.0</td>\n",
       "      <td>2.3</td>\n",
       "      <td>3.0</td>\n",
       "      <td>0.0</td>\n",
       "      <td>6.0</td>\n",
       "      <td>0</td>\n",
       "    </tr>\n",
       "    <tr>\n",
       "      <th>1</th>\n",
       "      <td>67.0</td>\n",
       "      <td>1.0</td>\n",
       "      <td>4.0</td>\n",
       "      <td>160.0</td>\n",
       "      <td>286.0</td>\n",
       "      <td>0.0</td>\n",
       "      <td>2.0</td>\n",
       "      <td>108.0</td>\n",
       "      <td>1.0</td>\n",
       "      <td>1.5</td>\n",
       "      <td>2.0</td>\n",
       "      <td>3.0</td>\n",
       "      <td>3.0</td>\n",
       "      <td>2</td>\n",
       "    </tr>\n",
       "    <tr>\n",
       "      <th>2</th>\n",
       "      <td>67.0</td>\n",
       "      <td>1.0</td>\n",
       "      <td>4.0</td>\n",
       "      <td>120.0</td>\n",
       "      <td>229.0</td>\n",
       "      <td>0.0</td>\n",
       "      <td>2.0</td>\n",
       "      <td>129.0</td>\n",
       "      <td>1.0</td>\n",
       "      <td>2.6</td>\n",
       "      <td>2.0</td>\n",
       "      <td>2.0</td>\n",
       "      <td>7.0</td>\n",
       "      <td>1</td>\n",
       "    </tr>\n",
       "    <tr>\n",
       "      <th>3</th>\n",
       "      <td>37.0</td>\n",
       "      <td>1.0</td>\n",
       "      <td>3.0</td>\n",
       "      <td>130.0</td>\n",
       "      <td>250.0</td>\n",
       "      <td>0.0</td>\n",
       "      <td>0.0</td>\n",
       "      <td>187.0</td>\n",
       "      <td>0.0</td>\n",
       "      <td>3.5</td>\n",
       "      <td>3.0</td>\n",
       "      <td>0.0</td>\n",
       "      <td>3.0</td>\n",
       "      <td>0</td>\n",
       "    </tr>\n",
       "    <tr>\n",
       "      <th>4</th>\n",
       "      <td>41.0</td>\n",
       "      <td>0.0</td>\n",
       "      <td>2.0</td>\n",
       "      <td>130.0</td>\n",
       "      <td>204.0</td>\n",
       "      <td>0.0</td>\n",
       "      <td>2.0</td>\n",
       "      <td>172.0</td>\n",
       "      <td>0.0</td>\n",
       "      <td>1.4</td>\n",
       "      <td>1.0</td>\n",
       "      <td>0.0</td>\n",
       "      <td>3.0</td>\n",
       "      <td>0</td>\n",
       "    </tr>\n",
       "  </tbody>\n",
       "</table>\n",
       "</div>"
      ],
      "text/plain": [
       "     0    1    2      3      4    5    6      7    8    9    10   11   12  13\n",
       "0  63.0  1.0  1.0  145.0  233.0  1.0  2.0  150.0  0.0  2.3  3.0  0.0  6.0   0\n",
       "1  67.0  1.0  4.0  160.0  286.0  0.0  2.0  108.0  1.0  1.5  2.0  3.0  3.0   2\n",
       "2  67.0  1.0  4.0  120.0  229.0  0.0  2.0  129.0  1.0  2.6  2.0  2.0  7.0   1\n",
       "3  37.0  1.0  3.0  130.0  250.0  0.0  0.0  187.0  0.0  3.5  3.0  0.0  3.0   0\n",
       "4  41.0  0.0  2.0  130.0  204.0  0.0  2.0  172.0  0.0  1.4  1.0  0.0  3.0   0"
      ]
     },
     "execution_count": 3,
     "metadata": {},
     "output_type": "execute_result"
    }
   ],
   "source": [
    "file_path = 'https://archive.ics.uci.edu/ml/machine-learning-databases/heart-disease/processed.cleveland.data'\n",
    "df = pd.read_csv(file_path, header=None)\n",
    "\n",
    "df.head()"
   ]
  },
  {
   "cell_type": "code",
   "execution_count": 4,
   "id": "4fae5300",
   "metadata": {},
   "outputs": [
    {
     "data": {
      "text/html": [
       "<div>\n",
       "<style scoped>\n",
       "    .dataframe tbody tr th:only-of-type {\n",
       "        vertical-align: middle;\n",
       "    }\n",
       "\n",
       "    .dataframe tbody tr th {\n",
       "        vertical-align: top;\n",
       "    }\n",
       "\n",
       "    .dataframe thead th {\n",
       "        text-align: right;\n",
       "    }\n",
       "</style>\n",
       "<table border=\"1\" class=\"dataframe\">\n",
       "  <thead>\n",
       "    <tr style=\"text-align: right;\">\n",
       "      <th></th>\n",
       "      <th>age</th>\n",
       "      <th>sex</th>\n",
       "      <th>cp</th>\n",
       "      <th>trestbps</th>\n",
       "      <th>chol</th>\n",
       "      <th>fbs</th>\n",
       "      <th>restecg</th>\n",
       "      <th>thalach</th>\n",
       "      <th>exang</th>\n",
       "      <th>oldpeak</th>\n",
       "      <th>slope</th>\n",
       "      <th>ca</th>\n",
       "      <th>thal</th>\n",
       "      <th>condition</th>\n",
       "    </tr>\n",
       "  </thead>\n",
       "  <tbody>\n",
       "    <tr>\n",
       "      <th>0</th>\n",
       "      <td>63.0</td>\n",
       "      <td>1.0</td>\n",
       "      <td>1.0</td>\n",
       "      <td>145.0</td>\n",
       "      <td>233.0</td>\n",
       "      <td>1.0</td>\n",
       "      <td>2.0</td>\n",
       "      <td>150.0</td>\n",
       "      <td>0.0</td>\n",
       "      <td>2.3</td>\n",
       "      <td>3.0</td>\n",
       "      <td>0.0</td>\n",
       "      <td>6.0</td>\n",
       "      <td>0</td>\n",
       "    </tr>\n",
       "    <tr>\n",
       "      <th>1</th>\n",
       "      <td>67.0</td>\n",
       "      <td>1.0</td>\n",
       "      <td>4.0</td>\n",
       "      <td>160.0</td>\n",
       "      <td>286.0</td>\n",
       "      <td>0.0</td>\n",
       "      <td>2.0</td>\n",
       "      <td>108.0</td>\n",
       "      <td>1.0</td>\n",
       "      <td>1.5</td>\n",
       "      <td>2.0</td>\n",
       "      <td>3.0</td>\n",
       "      <td>3.0</td>\n",
       "      <td>2</td>\n",
       "    </tr>\n",
       "    <tr>\n",
       "      <th>2</th>\n",
       "      <td>67.0</td>\n",
       "      <td>1.0</td>\n",
       "      <td>4.0</td>\n",
       "      <td>120.0</td>\n",
       "      <td>229.0</td>\n",
       "      <td>0.0</td>\n",
       "      <td>2.0</td>\n",
       "      <td>129.0</td>\n",
       "      <td>1.0</td>\n",
       "      <td>2.6</td>\n",
       "      <td>2.0</td>\n",
       "      <td>2.0</td>\n",
       "      <td>7.0</td>\n",
       "      <td>1</td>\n",
       "    </tr>\n",
       "    <tr>\n",
       "      <th>3</th>\n",
       "      <td>37.0</td>\n",
       "      <td>1.0</td>\n",
       "      <td>3.0</td>\n",
       "      <td>130.0</td>\n",
       "      <td>250.0</td>\n",
       "      <td>0.0</td>\n",
       "      <td>0.0</td>\n",
       "      <td>187.0</td>\n",
       "      <td>0.0</td>\n",
       "      <td>3.5</td>\n",
       "      <td>3.0</td>\n",
       "      <td>0.0</td>\n",
       "      <td>3.0</td>\n",
       "      <td>0</td>\n",
       "    </tr>\n",
       "    <tr>\n",
       "      <th>4</th>\n",
       "      <td>41.0</td>\n",
       "      <td>0.0</td>\n",
       "      <td>2.0</td>\n",
       "      <td>130.0</td>\n",
       "      <td>204.0</td>\n",
       "      <td>0.0</td>\n",
       "      <td>2.0</td>\n",
       "      <td>172.0</td>\n",
       "      <td>0.0</td>\n",
       "      <td>1.4</td>\n",
       "      <td>1.0</td>\n",
       "      <td>0.0</td>\n",
       "      <td>3.0</td>\n",
       "      <td>0</td>\n",
       "    </tr>\n",
       "  </tbody>\n",
       "</table>\n",
       "</div>"
      ],
      "text/plain": [
       "    age  sex   cp  trestbps   chol  fbs  restecg  thalach  exang  oldpeak  \\\n",
       "0  63.0  1.0  1.0     145.0  233.0  1.0      2.0    150.0    0.0      2.3   \n",
       "1  67.0  1.0  4.0     160.0  286.0  0.0      2.0    108.0    1.0      1.5   \n",
       "2  67.0  1.0  4.0     120.0  229.0  0.0      2.0    129.0    1.0      2.6   \n",
       "3  37.0  1.0  3.0     130.0  250.0  0.0      0.0    187.0    0.0      3.5   \n",
       "4  41.0  0.0  2.0     130.0  204.0  0.0      2.0    172.0    0.0      1.4   \n",
       "\n",
       "   slope   ca thal  condition  \n",
       "0    3.0  0.0  6.0          0  \n",
       "1    2.0  3.0  3.0          2  \n",
       "2    2.0  2.0  7.0          1  \n",
       "3    3.0  0.0  3.0          0  \n",
       "4    1.0  0.0  3.0          0  "
      ]
     },
     "execution_count": 4,
     "metadata": {},
     "output_type": "execute_result"
    }
   ],
   "source": [
    "df.columns = ['age', 'sex', 'cp', 'trestbps', 'chol', 'fbs', 'restecg', 'thalach', \n",
    "              'exang', 'oldpeak', 'slope', 'ca', 'thal', 'condition']\n",
    "\n",
    "df.head()"
   ]
  },
  {
   "cell_type": "code",
   "execution_count": 5,
   "id": "a5771e6f",
   "metadata": {},
   "outputs": [
    {
     "data": {
      "text/plain": [
       "(303, 14)"
      ]
     },
     "execution_count": 5,
     "metadata": {},
     "output_type": "execute_result"
    }
   ],
   "source": [
    "df.shape"
   ]
  },
  {
   "cell_type": "markdown",
   "id": "d56a1d64",
   "metadata": {},
   "source": [
    "## Dealing with missing data"
   ]
  },
  {
   "cell_type": "code",
   "execution_count": 6,
   "id": "782dd7e1",
   "metadata": {},
   "outputs": [
    {
     "name": "stdout",
     "output_type": "stream",
     "text": [
      "<class 'pandas.core.frame.DataFrame'>\n",
      "RangeIndex: 303 entries, 0 to 302\n",
      "Data columns (total 14 columns):\n",
      " #   Column     Non-Null Count  Dtype  \n",
      "---  ------     --------------  -----  \n",
      " 0   age        303 non-null    float64\n",
      " 1   sex        303 non-null    float64\n",
      " 2   cp         303 non-null    float64\n",
      " 3   trestbps   303 non-null    float64\n",
      " 4   chol       303 non-null    float64\n",
      " 5   fbs        303 non-null    float64\n",
      " 6   restecg    303 non-null    float64\n",
      " 7   thalach    303 non-null    float64\n",
      " 8   exang      303 non-null    float64\n",
      " 9   oldpeak    303 non-null    float64\n",
      " 10  slope      303 non-null    float64\n",
      " 11  ca         303 non-null    object \n",
      " 12  thal       303 non-null    object \n",
      " 13  condition  303 non-null    int64  \n",
      "dtypes: float64(11), int64(1), object(2)\n",
      "memory usage: 33.3+ KB\n"
     ]
    }
   ],
   "source": [
    "df.info()"
   ]
  },
  {
   "cell_type": "code",
   "execution_count": 7,
   "id": "fc3c7dae",
   "metadata": {},
   "outputs": [
    {
     "data": {
      "text/plain": [
       "False"
      ]
     },
     "execution_count": 7,
     "metadata": {},
     "output_type": "execute_result"
    }
   ],
   "source": [
    "df.isnull().any().max()"
   ]
  },
  {
   "cell_type": "code",
   "execution_count": 8,
   "id": "2540c3e7",
   "metadata": {},
   "outputs": [
    {
     "data": {
      "text/plain": [
       "0.0    176\n",
       "1.0     65\n",
       "2.0     38\n",
       "3.0     20\n",
       "?        4\n",
       "Name: ca, dtype: int64"
      ]
     },
     "execution_count": 8,
     "metadata": {},
     "output_type": "execute_result"
    }
   ],
   "source": [
    "df['ca'].value_counts()"
   ]
  },
  {
   "cell_type": "code",
   "execution_count": 9,
   "id": "df4bf0e0",
   "metadata": {
    "scrolled": true
   },
   "outputs": [
    {
     "data": {
      "text/plain": [
       "3.0    166\n",
       "7.0    117\n",
       "6.0     18\n",
       "?        2\n",
       "Name: thal, dtype: int64"
      ]
     },
     "execution_count": 9,
     "metadata": {},
     "output_type": "execute_result"
    }
   ],
   "source": [
    "df['thal'].value_counts()"
   ]
  },
  {
   "cell_type": "code",
   "execution_count": 10,
   "id": "8c1f6921",
   "metadata": {},
   "outputs": [
    {
     "data": {
      "text/plain": [
       "[166, 192, 287, 302, 87, 266]"
      ]
     },
     "execution_count": 10,
     "metadata": {},
     "output_type": "execute_result"
    }
   ],
   "source": [
    "missing = pd.concat([df.loc[df['ca'] == '?'], \n",
    "                    df.loc[df['thal'] == '?']], axis=0)\n",
    "\n",
    "list(missing.index)"
   ]
  },
  {
   "cell_type": "code",
   "execution_count": 11,
   "id": "82c31bf7",
   "metadata": {},
   "outputs": [],
   "source": [
    "for index in list(missing.index):\n",
    "    df.drop(index=[index], inplace=True, axis=0)"
   ]
  },
  {
   "cell_type": "markdown",
   "id": "b911b8b7",
   "metadata": {},
   "source": [
    "## Defining target and features"
   ]
  },
  {
   "cell_type": "code",
   "execution_count": 12,
   "id": "21bedce9",
   "metadata": {},
   "outputs": [
    {
     "data": {
      "text/plain": [
       "(297, 14)"
      ]
     },
     "execution_count": 12,
     "metadata": {},
     "output_type": "execute_result"
    }
   ],
   "source": [
    "df.shape"
   ]
  },
  {
   "cell_type": "code",
   "execution_count": 13,
   "id": "e0124162",
   "metadata": {},
   "outputs": [
    {
     "name": "stdout",
     "output_type": "stream",
     "text": [
      "<class 'pandas.core.frame.DataFrame'>\n",
      "Int64Index: 297 entries, 0 to 301\n",
      "Data columns (total 14 columns):\n",
      " #   Column     Non-Null Count  Dtype  \n",
      "---  ------     --------------  -----  \n",
      " 0   age        297 non-null    float64\n",
      " 1   sex        297 non-null    float64\n",
      " 2   cp         297 non-null    float64\n",
      " 3   trestbps   297 non-null    float64\n",
      " 4   chol       297 non-null    float64\n",
      " 5   fbs        297 non-null    float64\n",
      " 6   restecg    297 non-null    float64\n",
      " 7   thalach    297 non-null    float64\n",
      " 8   exang      297 non-null    float64\n",
      " 9   oldpeak    297 non-null    float64\n",
      " 10  slope      297 non-null    float64\n",
      " 11  ca         297 non-null    object \n",
      " 12  thal       297 non-null    object \n",
      " 13  condition  297 non-null    int64  \n",
      "dtypes: float64(11), int64(1), object(2)\n",
      "memory usage: 34.8+ KB\n"
     ]
    }
   ],
   "source": [
    "df.info()"
   ]
  },
  {
   "cell_type": "code",
   "execution_count": 14,
   "id": "36a8c3af",
   "metadata": {},
   "outputs": [
    {
     "data": {
      "text/html": [
       "<div>\n",
       "<style scoped>\n",
       "    .dataframe tbody tr th:only-of-type {\n",
       "        vertical-align: middle;\n",
       "    }\n",
       "\n",
       "    .dataframe tbody tr th {\n",
       "        vertical-align: top;\n",
       "    }\n",
       "\n",
       "    .dataframe thead th {\n",
       "        text-align: right;\n",
       "    }\n",
       "</style>\n",
       "<table border=\"1\" class=\"dataframe\">\n",
       "  <thead>\n",
       "    <tr style=\"text-align: right;\">\n",
       "      <th></th>\n",
       "      <th>age</th>\n",
       "      <th>sex</th>\n",
       "      <th>cp</th>\n",
       "      <th>trestbps</th>\n",
       "      <th>chol</th>\n",
       "      <th>fbs</th>\n",
       "      <th>restecg</th>\n",
       "      <th>thalach</th>\n",
       "      <th>exang</th>\n",
       "      <th>oldpeak</th>\n",
       "      <th>slope</th>\n",
       "      <th>ca</th>\n",
       "      <th>thal</th>\n",
       "    </tr>\n",
       "  </thead>\n",
       "  <tbody>\n",
       "    <tr>\n",
       "      <th>0</th>\n",
       "      <td>63.0</td>\n",
       "      <td>1.0</td>\n",
       "      <td>1.0</td>\n",
       "      <td>145.0</td>\n",
       "      <td>233.0</td>\n",
       "      <td>1.0</td>\n",
       "      <td>2.0</td>\n",
       "      <td>150.0</td>\n",
       "      <td>0.0</td>\n",
       "      <td>2.3</td>\n",
       "      <td>3.0</td>\n",
       "      <td>0.0</td>\n",
       "      <td>6.0</td>\n",
       "    </tr>\n",
       "    <tr>\n",
       "      <th>1</th>\n",
       "      <td>67.0</td>\n",
       "      <td>1.0</td>\n",
       "      <td>4.0</td>\n",
       "      <td>160.0</td>\n",
       "      <td>286.0</td>\n",
       "      <td>0.0</td>\n",
       "      <td>2.0</td>\n",
       "      <td>108.0</td>\n",
       "      <td>1.0</td>\n",
       "      <td>1.5</td>\n",
       "      <td>2.0</td>\n",
       "      <td>3.0</td>\n",
       "      <td>3.0</td>\n",
       "    </tr>\n",
       "    <tr>\n",
       "      <th>2</th>\n",
       "      <td>67.0</td>\n",
       "      <td>1.0</td>\n",
       "      <td>4.0</td>\n",
       "      <td>120.0</td>\n",
       "      <td>229.0</td>\n",
       "      <td>0.0</td>\n",
       "      <td>2.0</td>\n",
       "      <td>129.0</td>\n",
       "      <td>1.0</td>\n",
       "      <td>2.6</td>\n",
       "      <td>2.0</td>\n",
       "      <td>2.0</td>\n",
       "      <td>7.0</td>\n",
       "    </tr>\n",
       "    <tr>\n",
       "      <th>3</th>\n",
       "      <td>37.0</td>\n",
       "      <td>1.0</td>\n",
       "      <td>3.0</td>\n",
       "      <td>130.0</td>\n",
       "      <td>250.0</td>\n",
       "      <td>0.0</td>\n",
       "      <td>0.0</td>\n",
       "      <td>187.0</td>\n",
       "      <td>0.0</td>\n",
       "      <td>3.5</td>\n",
       "      <td>3.0</td>\n",
       "      <td>0.0</td>\n",
       "      <td>3.0</td>\n",
       "    </tr>\n",
       "    <tr>\n",
       "      <th>4</th>\n",
       "      <td>41.0</td>\n",
       "      <td>0.0</td>\n",
       "      <td>2.0</td>\n",
       "      <td>130.0</td>\n",
       "      <td>204.0</td>\n",
       "      <td>0.0</td>\n",
       "      <td>2.0</td>\n",
       "      <td>172.0</td>\n",
       "      <td>0.0</td>\n",
       "      <td>1.4</td>\n",
       "      <td>1.0</td>\n",
       "      <td>0.0</td>\n",
       "      <td>3.0</td>\n",
       "    </tr>\n",
       "  </tbody>\n",
       "</table>\n",
       "</div>"
      ],
      "text/plain": [
       "    age  sex   cp  trestbps   chol  fbs  restecg  thalach  exang  oldpeak  \\\n",
       "0  63.0  1.0  1.0     145.0  233.0  1.0      2.0    150.0    0.0      2.3   \n",
       "1  67.0  1.0  4.0     160.0  286.0  0.0      2.0    108.0    1.0      1.5   \n",
       "2  67.0  1.0  4.0     120.0  229.0  0.0      2.0    129.0    1.0      2.6   \n",
       "3  37.0  1.0  3.0     130.0  250.0  0.0      0.0    187.0    0.0      3.5   \n",
       "4  41.0  0.0  2.0     130.0  204.0  0.0      2.0    172.0    0.0      1.4   \n",
       "\n",
       "   slope   ca thal  \n",
       "0    3.0  0.0  6.0  \n",
       "1    2.0  3.0  3.0  \n",
       "2    2.0  2.0  7.0  \n",
       "3    3.0  0.0  3.0  \n",
       "4    1.0  0.0  3.0  "
      ]
     },
     "execution_count": 14,
     "metadata": {},
     "output_type": "execute_result"
    }
   ],
   "source": [
    "X = df.drop('condition', axis=1).copy()\n",
    "\n",
    "X.head()"
   ]
  },
  {
   "cell_type": "code",
   "execution_count": 15,
   "id": "9ac09248",
   "metadata": {},
   "outputs": [],
   "source": [
    "y = df['condition'].copy()"
   ]
  },
  {
   "cell_type": "markdown",
   "id": "7292ef70",
   "metadata": {},
   "source": [
    "## OneHotEncoding"
   ]
  },
  {
   "cell_type": "code",
   "execution_count": 16,
   "id": "36d46a1e",
   "metadata": {},
   "outputs": [
    {
     "data": {
      "text/html": [
       "<div>\n",
       "<style scoped>\n",
       "    .dataframe tbody tr th:only-of-type {\n",
       "        vertical-align: middle;\n",
       "    }\n",
       "\n",
       "    .dataframe tbody tr th {\n",
       "        vertical-align: top;\n",
       "    }\n",
       "\n",
       "    .dataframe thead th {\n",
       "        text-align: right;\n",
       "    }\n",
       "</style>\n",
       "<table border=\"1\" class=\"dataframe\">\n",
       "  <thead>\n",
       "    <tr style=\"text-align: right;\">\n",
       "      <th></th>\n",
       "      <th>age</th>\n",
       "      <th>sex</th>\n",
       "      <th>trestbps</th>\n",
       "      <th>chol</th>\n",
       "      <th>fbs</th>\n",
       "      <th>thalach</th>\n",
       "      <th>exang</th>\n",
       "      <th>oldpeak</th>\n",
       "      <th>cp_1.0</th>\n",
       "      <th>cp_2.0</th>\n",
       "      <th>...</th>\n",
       "      <th>slope_1.0</th>\n",
       "      <th>slope_2.0</th>\n",
       "      <th>slope_3.0</th>\n",
       "      <th>ca_0.0</th>\n",
       "      <th>ca_1.0</th>\n",
       "      <th>ca_2.0</th>\n",
       "      <th>ca_3.0</th>\n",
       "      <th>thal_3.0</th>\n",
       "      <th>thal_6.0</th>\n",
       "      <th>thal_7.0</th>\n",
       "    </tr>\n",
       "  </thead>\n",
       "  <tbody>\n",
       "    <tr>\n",
       "      <th>0</th>\n",
       "      <td>63.0</td>\n",
       "      <td>1.0</td>\n",
       "      <td>145.0</td>\n",
       "      <td>233.0</td>\n",
       "      <td>1.0</td>\n",
       "      <td>150.0</td>\n",
       "      <td>0.0</td>\n",
       "      <td>2.3</td>\n",
       "      <td>1</td>\n",
       "      <td>0</td>\n",
       "      <td>...</td>\n",
       "      <td>0</td>\n",
       "      <td>0</td>\n",
       "      <td>1</td>\n",
       "      <td>1</td>\n",
       "      <td>0</td>\n",
       "      <td>0</td>\n",
       "      <td>0</td>\n",
       "      <td>0</td>\n",
       "      <td>1</td>\n",
       "      <td>0</td>\n",
       "    </tr>\n",
       "    <tr>\n",
       "      <th>1</th>\n",
       "      <td>67.0</td>\n",
       "      <td>1.0</td>\n",
       "      <td>160.0</td>\n",
       "      <td>286.0</td>\n",
       "      <td>0.0</td>\n",
       "      <td>108.0</td>\n",
       "      <td>1.0</td>\n",
       "      <td>1.5</td>\n",
       "      <td>0</td>\n",
       "      <td>0</td>\n",
       "      <td>...</td>\n",
       "      <td>0</td>\n",
       "      <td>1</td>\n",
       "      <td>0</td>\n",
       "      <td>0</td>\n",
       "      <td>0</td>\n",
       "      <td>0</td>\n",
       "      <td>1</td>\n",
       "      <td>1</td>\n",
       "      <td>0</td>\n",
       "      <td>0</td>\n",
       "    </tr>\n",
       "    <tr>\n",
       "      <th>2</th>\n",
       "      <td>67.0</td>\n",
       "      <td>1.0</td>\n",
       "      <td>120.0</td>\n",
       "      <td>229.0</td>\n",
       "      <td>0.0</td>\n",
       "      <td>129.0</td>\n",
       "      <td>1.0</td>\n",
       "      <td>2.6</td>\n",
       "      <td>0</td>\n",
       "      <td>0</td>\n",
       "      <td>...</td>\n",
       "      <td>0</td>\n",
       "      <td>1</td>\n",
       "      <td>0</td>\n",
       "      <td>0</td>\n",
       "      <td>0</td>\n",
       "      <td>1</td>\n",
       "      <td>0</td>\n",
       "      <td>0</td>\n",
       "      <td>0</td>\n",
       "      <td>1</td>\n",
       "    </tr>\n",
       "    <tr>\n",
       "      <th>3</th>\n",
       "      <td>37.0</td>\n",
       "      <td>1.0</td>\n",
       "      <td>130.0</td>\n",
       "      <td>250.0</td>\n",
       "      <td>0.0</td>\n",
       "      <td>187.0</td>\n",
       "      <td>0.0</td>\n",
       "      <td>3.5</td>\n",
       "      <td>0</td>\n",
       "      <td>0</td>\n",
       "      <td>...</td>\n",
       "      <td>0</td>\n",
       "      <td>0</td>\n",
       "      <td>1</td>\n",
       "      <td>1</td>\n",
       "      <td>0</td>\n",
       "      <td>0</td>\n",
       "      <td>0</td>\n",
       "      <td>1</td>\n",
       "      <td>0</td>\n",
       "      <td>0</td>\n",
       "    </tr>\n",
       "    <tr>\n",
       "      <th>4</th>\n",
       "      <td>41.0</td>\n",
       "      <td>0.0</td>\n",
       "      <td>130.0</td>\n",
       "      <td>204.0</td>\n",
       "      <td>0.0</td>\n",
       "      <td>172.0</td>\n",
       "      <td>0.0</td>\n",
       "      <td>1.4</td>\n",
       "      <td>0</td>\n",
       "      <td>1</td>\n",
       "      <td>...</td>\n",
       "      <td>1</td>\n",
       "      <td>0</td>\n",
       "      <td>0</td>\n",
       "      <td>1</td>\n",
       "      <td>0</td>\n",
       "      <td>0</td>\n",
       "      <td>0</td>\n",
       "      <td>1</td>\n",
       "      <td>0</td>\n",
       "      <td>0</td>\n",
       "    </tr>\n",
       "  </tbody>\n",
       "</table>\n",
       "<p>5 rows × 25 columns</p>\n",
       "</div>"
      ],
      "text/plain": [
       "    age  sex  trestbps   chol  fbs  thalach  exang  oldpeak  cp_1.0  cp_2.0  \\\n",
       "0  63.0  1.0     145.0  233.0  1.0    150.0    0.0      2.3       1       0   \n",
       "1  67.0  1.0     160.0  286.0  0.0    108.0    1.0      1.5       0       0   \n",
       "2  67.0  1.0     120.0  229.0  0.0    129.0    1.0      2.6       0       0   \n",
       "3  37.0  1.0     130.0  250.0  0.0    187.0    0.0      3.5       0       0   \n",
       "4  41.0  0.0     130.0  204.0  0.0    172.0    0.0      1.4       0       1   \n",
       "\n",
       "   ...  slope_1.0  slope_2.0  slope_3.0  ca_0.0  ca_1.0  ca_2.0  ca_3.0  \\\n",
       "0  ...          0          0          1       1       0       0       0   \n",
       "1  ...          0          1          0       0       0       0       1   \n",
       "2  ...          0          1          0       0       0       1       0   \n",
       "3  ...          0          0          1       1       0       0       0   \n",
       "4  ...          1          0          0       1       0       0       0   \n",
       "\n",
       "   thal_3.0  thal_6.0  thal_7.0  \n",
       "0         0         1         0  \n",
       "1         1         0         0  \n",
       "2         0         0         1  \n",
       "3         1         0         0  \n",
       "4         1         0         0  \n",
       "\n",
       "[5 rows x 25 columns]"
      ]
     },
     "execution_count": 16,
     "metadata": {},
     "output_type": "execute_result"
    }
   ],
   "source": [
    "X_encoded = pd.get_dummies(X, columns=['cp', 'restecg', 'slope', 'ca', 'thal'])\n",
    "\n",
    "X_encoded.head()"
   ]
  },
  {
   "cell_type": "markdown",
   "id": "eb4a6233",
   "metadata": {},
   "source": [
    "## Target variable"
   ]
  },
  {
   "cell_type": "code",
   "execution_count": 17,
   "id": "2c7ccfca",
   "metadata": {},
   "outputs": [
    {
     "data": {
      "text/plain": [
       "array([0, 2, 1, 3, 4])"
      ]
     },
     "execution_count": 17,
     "metadata": {},
     "output_type": "execute_result"
    }
   ],
   "source": [
    "y.unique()"
   ]
  },
  {
   "cell_type": "code",
   "execution_count": 18,
   "id": "6341a571",
   "metadata": {},
   "outputs": [
    {
     "data": {
      "text/plain": [
       "array([0, 1])"
      ]
     },
     "execution_count": 18,
     "metadata": {},
     "output_type": "execute_result"
    }
   ],
   "source": [
    "y_not_zero = y > 0\n",
    "y[y_not_zero] = 1\n",
    "\n",
    "y.unique()"
   ]
  },
  {
   "cell_type": "markdown",
   "id": "b12ad8ac",
   "metadata": {},
   "source": [
    "## Splitting the data"
   ]
  },
  {
   "cell_type": "code",
   "execution_count": 19,
   "id": "9cda3fa3",
   "metadata": {},
   "outputs": [
    {
     "name": "stdout",
     "output_type": "stream",
     "text": [
      "X_train shape: (222, 25)\n",
      "X_test shape: (75, 25)\n",
      "y_train shape: (222,)\n",
      "y_test shape: (75,)\n"
     ]
    }
   ],
   "source": [
    "X_train, X_test, y_train, y_test = train_test_split(X_encoded, y, random_state=42)\n",
    "\n",
    "print(f'X_train shape: {X_train.shape}')\n",
    "print(f'X_test shape: {X_test.shape}')\n",
    "print(f'y_train shape: {y_train.shape}')\n",
    "print(f'y_test shape: {y_test.shape}')"
   ]
  },
  {
   "cell_type": "markdown",
   "id": "3cc01b2b",
   "metadata": {},
   "source": [
    "# Logistic Regression"
   ]
  },
  {
   "cell_type": "code",
   "execution_count": 20,
   "id": "ab3dfa13",
   "metadata": {},
   "outputs": [
    {
     "name": "stdout",
     "output_type": "stream",
     "text": [
      " Accuracy score of the logistic regression: 0.8533333333333334\n"
     ]
    }
   ],
   "source": [
    "from sklearn.metrics import accuracy_score\n",
    "\n",
    "log_model = LogisticRegression(max_iter=1000)\n",
    "log_model.fit(X_train, y_train)\n",
    "\n",
    "log_pred = log_model.predict(X_test)\n",
    "print(f' Accuracy score of the logistic regression: {accuracy_score(y_test, log_pred)}')"
   ]
  },
  {
   "cell_type": "markdown",
   "id": "ffa72eca",
   "metadata": {},
   "source": [
    "# SVC "
   ]
  },
  {
   "cell_type": "code",
   "execution_count": 21,
   "id": "346ec5ef",
   "metadata": {},
   "outputs": [
    {
     "name": "stdout",
     "output_type": "stream",
     "text": [
      "Fitting 5 folds for each of 25 candidates, totalling 125 fits\n",
      "[CV 1/5] END ....................C=0.1, gamma=1;, score=0.533 total time=   0.0s\n",
      "[CV 2/5] END ....................C=0.1, gamma=1;, score=0.533 total time=   0.0s\n",
      "[CV 3/5] END ....................C=0.1, gamma=1;, score=0.523 total time=   0.0s\n",
      "[CV 4/5] END ....................C=0.1, gamma=1;, score=0.523 total time=   0.0s\n",
      "[CV 5/5] END ....................C=0.1, gamma=1;, score=0.545 total time=   0.0s\n",
      "[CV 1/5] END ..................C=0.1, gamma=0.1;, score=0.533 total time=   0.0s\n",
      "[CV 2/5] END ..................C=0.1, gamma=0.1;, score=0.533 total time=   0.0s\n",
      "[CV 3/5] END ..................C=0.1, gamma=0.1;, score=0.523 total time=   0.0s\n",
      "[CV 4/5] END ..................C=0.1, gamma=0.1;, score=0.523 total time=   0.0s\n",
      "[CV 5/5] END ..................C=0.1, gamma=0.1;, score=0.545 total time=   0.0s\n",
      "[CV 1/5] END .................C=0.1, gamma=0.01;, score=0.533 total time=   0.0s\n",
      "[CV 2/5] END .................C=0.1, gamma=0.01;, score=0.533 total time=   0.0s\n",
      "[CV 3/5] END .................C=0.1, gamma=0.01;, score=0.523 total time=   0.0s\n",
      "[CV 4/5] END .................C=0.1, gamma=0.01;, score=0.523 total time=   0.0s\n",
      "[CV 5/5] END .................C=0.1, gamma=0.01;, score=0.545 total time=   0.0s\n",
      "[CV 1/5] END ................C=0.1, gamma=0.001;, score=0.578 total time=   0.0s\n",
      "[CV 2/5] END ................C=0.1, gamma=0.001;, score=0.578 total time=   0.0s\n",
      "[CV 3/5] END ................C=0.1, gamma=0.001;, score=0.591 total time=   0.0s\n",
      "[CV 4/5] END ................C=0.1, gamma=0.001;, score=0.523 total time=   0.0s\n",
      "[CV 5/5] END ................C=0.1, gamma=0.001;, score=0.591 total time=   0.0s\n",
      "[CV 1/5] END ...............C=0.1, gamma=0.0001;, score=0.556 total time=   0.0s\n",
      "[CV 2/5] END ...............C=0.1, gamma=0.0001;, score=0.644 total time=   0.0s\n",
      "[CV 3/5] END ...............C=0.1, gamma=0.0001;, score=0.477 total time=   0.0s\n",
      "[CV 4/5] END ...............C=0.1, gamma=0.0001;, score=0.614 total time=   0.0s\n",
      "[CV 5/5] END ...............C=0.1, gamma=0.0001;, score=0.614 total time=   0.0s\n",
      "[CV 1/5] END ......................C=1, gamma=1;, score=0.533 total time=   0.0s\n",
      "[CV 2/5] END ......................C=1, gamma=1;, score=0.533 total time=   0.0s\n",
      "[CV 3/5] END ......................C=1, gamma=1;, score=0.523 total time=   0.0s\n",
      "[CV 4/5] END ......................C=1, gamma=1;, score=0.523 total time=   0.0s\n",
      "[CV 5/5] END ......................C=1, gamma=1;, score=0.545 total time=   0.0s\n",
      "[CV 1/5] END ....................C=1, gamma=0.1;, score=0.533 total time=   0.0s\n",
      "[CV 2/5] END ....................C=1, gamma=0.1;, score=0.533 total time=   0.0s\n",
      "[CV 3/5] END ....................C=1, gamma=0.1;, score=0.500 total time=   0.0s\n",
      "[CV 4/5] END ....................C=1, gamma=0.1;, score=0.523 total time=   0.0s\n",
      "[CV 5/5] END ....................C=1, gamma=0.1;, score=0.545 total time=   0.0s\n",
      "[CV 1/5] END ...................C=1, gamma=0.01;, score=0.511 total time=   0.0s\n",
      "[CV 2/5] END ...................C=1, gamma=0.01;, score=0.578 total time=   0.0s\n",
      "[CV 3/5] END ...................C=1, gamma=0.01;, score=0.614 total time=   0.0s\n",
      "[CV 4/5] END ...................C=1, gamma=0.01;, score=0.568 total time=   0.0s\n",
      "[CV 5/5] END ...................C=1, gamma=0.01;, score=0.591 total time=   0.0s\n",
      "[CV 1/5] END ..................C=1, gamma=0.001;, score=0.556 total time=   0.0s\n",
      "[CV 2/5] END ..................C=1, gamma=0.001;, score=0.733 total time=   0.0s\n",
      "[CV 3/5] END ..................C=1, gamma=0.001;, score=0.614 total time=   0.0s\n",
      "[CV 4/5] END ..................C=1, gamma=0.001;, score=0.682 total time=   0.0s\n",
      "[CV 5/5] END ..................C=1, gamma=0.001;, score=0.636 total time=   0.0s\n",
      "[CV 1/5] END .................C=1, gamma=0.0001;, score=0.578 total time=   0.0s\n",
      "[CV 2/5] END .................C=1, gamma=0.0001;, score=0.778 total time=   0.0s\n",
      "[CV 3/5] END .................C=1, gamma=0.0001;, score=0.591 total time=   0.0s\n",
      "[CV 4/5] END .................C=1, gamma=0.0001;, score=0.682 total time=   0.0s\n",
      "[CV 5/5] END .................C=1, gamma=0.0001;, score=0.636 total time=   0.0s\n",
      "[CV 1/5] END .....................C=10, gamma=1;, score=0.533 total time=   0.0s\n",
      "[CV 2/5] END .....................C=10, gamma=1;, score=0.533 total time=   0.0s\n",
      "[CV 3/5] END .....................C=10, gamma=1;, score=0.523 total time=   0.0s\n",
      "[CV 4/5] END .....................C=10, gamma=1;, score=0.523 total time=   0.0s\n",
      "[CV 5/5] END .....................C=10, gamma=1;, score=0.545 total time=   0.0s\n",
      "[CV 1/5] END ...................C=10, gamma=0.1;, score=0.533 total time=   0.0s\n",
      "[CV 2/5] END ...................C=10, gamma=0.1;, score=0.533 total time=   0.0s\n",
      "[CV 3/5] END ...................C=10, gamma=0.1;, score=0.500 total time=   0.0s\n",
      "[CV 4/5] END ...................C=10, gamma=0.1;, score=0.545 total time=   0.0s\n",
      "[CV 5/5] END ...................C=10, gamma=0.1;, score=0.545 total time=   0.0s\n",
      "[CV 1/5] END ..................C=10, gamma=0.01;, score=0.578 total time=   0.0s\n",
      "[CV 2/5] END ..................C=10, gamma=0.01;, score=0.533 total time=   0.0s\n",
      "[CV 3/5] END ..................C=10, gamma=0.01;, score=0.591 total time=   0.0s\n",
      "[CV 4/5] END ..................C=10, gamma=0.01;, score=0.636 total time=   0.0s\n",
      "[CV 5/5] END ..................C=10, gamma=0.01;, score=0.568 total time=   0.0s\n",
      "[CV 1/5] END .................C=10, gamma=0.001;, score=0.600 total time=   0.0s\n",
      "[CV 2/5] END .................C=10, gamma=0.001;, score=0.778 total time=   0.0s\n",
      "[CV 3/5] END .................C=10, gamma=0.001;, score=0.636 total time=   0.0s\n",
      "[CV 4/5] END .................C=10, gamma=0.001;, score=0.614 total time=   0.0s\n",
      "[CV 5/5] END .................C=10, gamma=0.001;, score=0.682 total time=   0.0s\n",
      "[CV 1/5] END ................C=10, gamma=0.0001;, score=0.667 total time=   0.0s\n",
      "[CV 2/5] END ................C=10, gamma=0.0001;, score=0.733 total time=   0.0s\n",
      "[CV 3/5] END ................C=10, gamma=0.0001;, score=0.614 total time=   0.0s\n",
      "[CV 4/5] END ................C=10, gamma=0.0001;, score=0.614 total time=   0.0s\n",
      "[CV 5/5] END ................C=10, gamma=0.0001;, score=0.705 total time=   0.0s\n",
      "[CV 1/5] END ....................C=100, gamma=1;, score=0.533 total time=   0.0s\n",
      "[CV 2/5] END ....................C=100, gamma=1;, score=0.533 total time=   0.0s\n",
      "[CV 3/5] END ....................C=100, gamma=1;, score=0.523 total time=   0.0s\n",
      "[CV 4/5] END ....................C=100, gamma=1;, score=0.523 total time=   0.0s\n",
      "[CV 5/5] END ....................C=100, gamma=1;, score=0.545 total time=   0.0s\n",
      "[CV 1/5] END ..................C=100, gamma=0.1;, score=0.533 total time=   0.0s\n",
      "[CV 2/5] END ..................C=100, gamma=0.1;, score=0.533 total time=   0.0s\n",
      "[CV 3/5] END ..................C=100, gamma=0.1;, score=0.500 total time=   0.0s\n",
      "[CV 4/5] END ..................C=100, gamma=0.1;, score=0.545 total time=   0.0s\n",
      "[CV 5/5] END ..................C=100, gamma=0.1;, score=0.545 total time=   0.0s\n",
      "[CV 1/5] END .................C=100, gamma=0.01;, score=0.578 total time=   0.0s\n",
      "[CV 2/5] END .................C=100, gamma=0.01;, score=0.533 total time=   0.0s\n",
      "[CV 3/5] END .................C=100, gamma=0.01;, score=0.591 total time=   0.0s\n",
      "[CV 4/5] END .................C=100, gamma=0.01;, score=0.636 total time=   0.0s\n",
      "[CV 5/5] END .................C=100, gamma=0.01;, score=0.568 total time=   0.0s\n",
      "[CV 1/5] END ................C=100, gamma=0.001;, score=0.667 total time=   0.0s\n",
      "[CV 2/5] END ................C=100, gamma=0.001;, score=0.711 total time=   0.0s\n",
      "[CV 3/5] END ................C=100, gamma=0.001;, score=0.545 total time=   0.0s\n",
      "[CV 4/5] END ................C=100, gamma=0.001;, score=0.636 total time=   0.0s\n",
      "[CV 5/5] END ................C=100, gamma=0.001;, score=0.636 total time=   0.0s\n",
      "[CV 1/5] END ...............C=100, gamma=0.0001;, score=0.733 total time=   0.0s\n",
      "[CV 2/5] END ...............C=100, gamma=0.0001;, score=0.778 total time=   0.0s\n",
      "[CV 3/5] END ...............C=100, gamma=0.0001;, score=0.705 total time=   0.0s\n",
      "[CV 4/5] END ...............C=100, gamma=0.0001;, score=0.773 total time=   0.0s\n",
      "[CV 5/5] END ...............C=100, gamma=0.0001;, score=0.727 total time=   0.0s\n",
      "[CV 1/5] END ...................C=1000, gamma=1;, score=0.533 total time=   0.0s\n",
      "[CV 2/5] END ...................C=1000, gamma=1;, score=0.533 total time=   0.0s\n",
      "[CV 3/5] END ...................C=1000, gamma=1;, score=0.523 total time=   0.0s\n",
      "[CV 4/5] END ...................C=1000, gamma=1;, score=0.523 total time=   0.0s\n",
      "[CV 5/5] END ...................C=1000, gamma=1;, score=0.545 total time=   0.0s\n",
      "[CV 1/5] END .................C=1000, gamma=0.1;, score=0.533 total time=   0.0s\n",
      "[CV 2/5] END .................C=1000, gamma=0.1;, score=0.533 total time=   0.0s\n",
      "[CV 3/5] END .................C=1000, gamma=0.1;, score=0.500 total time=   0.0s\n"
     ]
    },
    {
     "name": "stdout",
     "output_type": "stream",
     "text": [
      "[CV 4/5] END .................C=1000, gamma=0.1;, score=0.545 total time=   0.0s\n",
      "[CV 5/5] END .................C=1000, gamma=0.1;, score=0.545 total time=   0.0s\n",
      "[CV 1/5] END ................C=1000, gamma=0.01;, score=0.578 total time=   0.0s\n",
      "[CV 2/5] END ................C=1000, gamma=0.01;, score=0.533 total time=   0.0s\n",
      "[CV 3/5] END ................C=1000, gamma=0.01;, score=0.591 total time=   0.0s\n",
      "[CV 4/5] END ................C=1000, gamma=0.01;, score=0.636 total time=   0.0s\n",
      "[CV 5/5] END ................C=1000, gamma=0.01;, score=0.568 total time=   0.0s\n",
      "[CV 1/5] END ...............C=1000, gamma=0.001;, score=0.667 total time=   0.0s\n",
      "[CV 2/5] END ...............C=1000, gamma=0.001;, score=0.689 total time=   0.0s\n",
      "[CV 3/5] END ...............C=1000, gamma=0.001;, score=0.545 total time=   0.0s\n",
      "[CV 4/5] END ...............C=1000, gamma=0.001;, score=0.636 total time=   0.0s\n",
      "[CV 5/5] END ...............C=1000, gamma=0.001;, score=0.614 total time=   0.0s\n",
      "[CV 1/5] END ..............C=1000, gamma=0.0001;, score=0.778 total time=   0.0s\n",
      "[CV 2/5] END ..............C=1000, gamma=0.0001;, score=0.822 total time=   0.0s\n",
      "[CV 3/5] END ..............C=1000, gamma=0.0001;, score=0.614 total time=   0.0s\n",
      "[CV 4/5] END ..............C=1000, gamma=0.0001;, score=0.795 total time=   0.0s\n",
      "[CV 5/5] END ..............C=1000, gamma=0.0001;, score=0.705 total time=   0.0s\n"
     ]
    },
    {
     "data": {
      "text/plain": [
       "GridSearchCV(estimator=SVC(),\n",
       "             param_grid={'C': [0.1, 1, 10, 100, 1000],\n",
       "                         'gamma': [1, 0.1, 0.01, 0.001, 0.0001]},\n",
       "             verbose=3)"
      ]
     },
     "execution_count": 21,
     "metadata": {},
     "output_type": "execute_result"
    }
   ],
   "source": [
    "svc = SVC()\n",
    "\n",
    "param_grid = {'C': [0.1, 1, 10, 100, 1000], \n",
    "             'gamma': [1, 0.1, 0.01, 0.001, 0.0001]}\n",
    "\n",
    "grid = GridSearchCV(svc, param_grid, refit=True, verbose=3)\n",
    "grid.fit(X_train, y_train)"
   ]
  },
  {
   "cell_type": "code",
   "execution_count": 22,
   "id": "3bd760ac",
   "metadata": {},
   "outputs": [
    {
     "data": {
      "text/plain": [
       "SVC(C=100, gamma=0.0001)"
      ]
     },
     "execution_count": 22,
     "metadata": {},
     "output_type": "execute_result"
    }
   ],
   "source": [
    "best_model = grid.best_estimator_\n",
    "\n",
    "best_model"
   ]
  },
  {
   "cell_type": "code",
   "execution_count": 23,
   "id": "c827f7fc",
   "metadata": {},
   "outputs": [
    {
     "name": "stdout",
     "output_type": "stream",
     "text": [
      "Accuracy score of the SVC model: 0.7866666666666666\n"
     ]
    }
   ],
   "source": [
    "svc_pred = best_model.predict(X_test)\n",
    "print(f'Accuracy score of the SVC model: {accuracy_score(y_test, svc_pred)}')"
   ]
  },
  {
   "cell_type": "markdown",
   "id": "a813df25",
   "metadata": {},
   "source": [
    "# Preliminary Classification Tree"
   ]
  },
  {
   "cell_type": "code",
   "execution_count": 24,
   "id": "db73cd6a",
   "metadata": {},
   "outputs": [
    {
     "data": {
      "text/plain": [
       "[Text(519.8210526315789, 468.855, 'ca_0.0 <= 0.5\\ngini = 0.498\\nsamples = 222\\nvalue = [118, 104]\\nclass = Yes HD'),\n",
       " Text(268.72105263157897, 428.08500000000004, 'cp_4.0 <= 0.5\\ngini = 0.346\\nsamples = 90\\nvalue = [20, 70]\\nclass = No Nd'),\n",
       " Text(167.4, 387.315, 'oldpeak <= 0.55\\ngini = 0.499\\nsamples = 31\\nvalue = [16, 15]\\nclass = Yes HD'),\n",
       " Text(88.10526315789474, 346.54499999999996, 'cp_2.0 <= 0.5\\ngini = 0.401\\nsamples = 18\\nvalue = [13, 5]\\nclass = Yes HD'),\n",
       " Text(35.242105263157896, 305.775, 'oldpeak <= 0.35\\ngini = 0.165\\nsamples = 11\\nvalue = [10, 1]\\nclass = Yes HD'),\n",
       " Text(17.621052631578948, 265.005, 'gini = 0.0\\nsamples = 9\\nvalue = [9, 0]\\nclass = Yes HD'),\n",
       " Text(52.863157894736844, 265.005, 'slope_3.0 <= 0.5\\ngini = 0.5\\nsamples = 2\\nvalue = [1, 1]\\nclass = Yes HD'),\n",
       " Text(35.242105263157896, 224.235, 'gini = 0.0\\nsamples = 1\\nvalue = [0, 1]\\nclass = No Nd'),\n",
       " Text(70.48421052631579, 224.235, 'gini = 0.0\\nsamples = 1\\nvalue = [1, 0]\\nclass = Yes HD'),\n",
       " Text(140.96842105263158, 305.775, 'trestbps <= 134.0\\ngini = 0.49\\nsamples = 7\\nvalue = [3, 4]\\nclass = No Nd'),\n",
       " Text(123.34736842105264, 265.005, 'slope_1.0 <= 0.5\\ngini = 0.375\\nsamples = 4\\nvalue = [3, 1]\\nclass = Yes HD'),\n",
       " Text(105.72631578947369, 224.235, 'gini = 0.0\\nsamples = 1\\nvalue = [0, 1]\\nclass = No Nd'),\n",
       " Text(140.96842105263158, 224.235, 'gini = 0.0\\nsamples = 3\\nvalue = [3, 0]\\nclass = Yes HD'),\n",
       " Text(158.58947368421053, 265.005, 'gini = 0.0\\nsamples = 3\\nvalue = [0, 3]\\nclass = No Nd'),\n",
       " Text(246.69473684210527, 346.54499999999996, 'trestbps <= 139.0\\ngini = 0.355\\nsamples = 13\\nvalue = [3, 10]\\nclass = No Nd'),\n",
       " Text(211.45263157894738, 305.775, 'ca_3.0 <= 0.5\\ngini = 0.18\\nsamples = 10\\nvalue = [1, 9]\\nclass = No Nd'),\n",
       " Text(193.83157894736843, 265.005, 'gini = 0.0\\nsamples = 7\\nvalue = [0, 7]\\nclass = No Nd'),\n",
       " Text(229.07368421052632, 265.005, 'thalach <= 142.5\\ngini = 0.444\\nsamples = 3\\nvalue = [1, 2]\\nclass = No Nd'),\n",
       " Text(211.45263157894738, 224.235, 'gini = 0.0\\nsamples = 2\\nvalue = [0, 2]\\nclass = No Nd'),\n",
       " Text(246.69473684210527, 224.235, 'gini = 0.0\\nsamples = 1\\nvalue = [1, 0]\\nclass = Yes HD'),\n",
       " Text(281.93684210526317, 305.775, 'oldpeak <= 1.4\\ngini = 0.444\\nsamples = 3\\nvalue = [2, 1]\\nclass = Yes HD'),\n",
       " Text(264.3157894736842, 265.005, 'gini = 0.0\\nsamples = 2\\nvalue = [2, 0]\\nclass = Yes HD'),\n",
       " Text(299.5578947368421, 265.005, 'gini = 0.0\\nsamples = 1\\nvalue = [0, 1]\\nclass = No Nd'),\n",
       " Text(370.0421052631579, 387.315, 'trestbps <= 109.0\\ngini = 0.126\\nsamples = 59\\nvalue = [4, 55]\\nclass = No Nd'),\n",
       " Text(334.8, 346.54499999999996, 'chol <= 233.5\\ngini = 0.5\\nsamples = 4\\nvalue = [2, 2]\\nclass = Yes HD'),\n",
       " Text(317.17894736842106, 305.775, 'gini = 0.0\\nsamples = 2\\nvalue = [2, 0]\\nclass = Yes HD'),\n",
       " Text(352.42105263157896, 305.775, 'gini = 0.0\\nsamples = 2\\nvalue = [0, 2]\\nclass = No Nd'),\n",
       " Text(405.2842105263158, 346.54499999999996, 'age <= 63.5\\ngini = 0.07\\nsamples = 55\\nvalue = [2, 53]\\nclass = No Nd'),\n",
       " Text(387.66315789473686, 305.775, 'gini = 0.0\\nsamples = 44\\nvalue = [0, 44]\\nclass = No Nd'),\n",
       " Text(422.90526315789475, 305.775, 'age <= 64.5\\ngini = 0.298\\nsamples = 11\\nvalue = [2, 9]\\nclass = No Nd'),\n",
       " Text(405.2842105263158, 265.005, 'chol <= 254.5\\ngini = 0.5\\nsamples = 4\\nvalue = [2, 2]\\nclass = Yes HD'),\n",
       " Text(387.66315789473686, 224.235, 'gini = 0.0\\nsamples = 2\\nvalue = [0, 2]\\nclass = No Nd'),\n",
       " Text(422.90526315789475, 224.235, 'gini = 0.0\\nsamples = 2\\nvalue = [2, 0]\\nclass = Yes HD'),\n",
       " Text(440.5263157894737, 265.005, 'gini = 0.0\\nsamples = 7\\nvalue = [0, 7]\\nclass = No Nd'),\n",
       " Text(770.921052631579, 428.08500000000004, 'thal_7.0 <= 0.5\\ngini = 0.382\\nsamples = 132\\nvalue = [98, 34]\\nclass = Yes HD'),\n",
       " Text(647.5736842105264, 387.315, 'oldpeak <= 2.7\\ngini = 0.24\\nsamples = 93\\nvalue = [80, 13]\\nclass = Yes HD'),\n",
       " Text(572.6842105263158, 346.54499999999996, 'age <= 58.5\\ngini = 0.185\\nsamples = 87\\nvalue = [78, 9]\\nclass = Yes HD'),\n",
       " Text(511.0105263157895, 305.775, 'oldpeak <= 1.7\\ngini = 0.061\\nsamples = 63\\nvalue = [61, 2]\\nclass = Yes HD'),\n",
       " Text(475.7684210526316, 265.005, 'trestbps <= 109.0\\ngini = 0.033\\nsamples = 60\\nvalue = [59, 1]\\nclass = Yes HD'),\n",
       " Text(458.14736842105265, 224.235, 'sex <= 0.5\\ngini = 0.278\\nsamples = 6\\nvalue = [5, 1]\\nclass = Yes HD'),\n",
       " Text(440.5263157894737, 183.46499999999997, 'gini = 0.0\\nsamples = 4\\nvalue = [4, 0]\\nclass = Yes HD'),\n",
       " Text(475.7684210526316, 183.46499999999997, 'trestbps <= 104.0\\ngini = 0.5\\nsamples = 2\\nvalue = [1, 1]\\nclass = Yes HD'),\n",
       " Text(458.14736842105265, 142.695, 'gini = 0.0\\nsamples = 1\\nvalue = [1, 0]\\nclass = Yes HD'),\n",
       " Text(493.38947368421054, 142.695, 'gini = 0.0\\nsamples = 1\\nvalue = [0, 1]\\nclass = No Nd'),\n",
       " Text(493.38947368421054, 224.235, 'gini = 0.0\\nsamples = 54\\nvalue = [54, 0]\\nclass = Yes HD'),\n",
       " Text(546.2526315789473, 265.005, 'chol <= 280.0\\ngini = 0.444\\nsamples = 3\\nvalue = [2, 1]\\nclass = Yes HD'),\n",
       " Text(528.6315789473684, 224.235, 'gini = 0.0\\nsamples = 2\\nvalue = [2, 0]\\nclass = Yes HD'),\n",
       " Text(563.8736842105263, 224.235, 'gini = 0.0\\nsamples = 1\\nvalue = [0, 1]\\nclass = No Nd'),\n",
       " Text(634.3578947368421, 305.775, 'oldpeak <= 1.45\\ngini = 0.413\\nsamples = 24\\nvalue = [17, 7]\\nclass = Yes HD'),\n",
       " Text(616.7368421052631, 265.005, 'age <= 68.5\\ngini = 0.484\\nsamples = 17\\nvalue = [10, 7]\\nclass = Yes HD'),\n",
       " Text(599.1157894736842, 224.235, 'fbs <= 0.5\\ngini = 0.498\\nsamples = 15\\nvalue = [8, 7]\\nclass = Yes HD'),\n",
       " Text(581.4947368421053, 183.46499999999997, 'thalach <= 145.5\\ngini = 0.497\\nsamples = 13\\nvalue = [6, 7]\\nclass = No Nd'),\n",
       " Text(563.8736842105263, 142.695, 'gini = 0.0\\nsamples = 4\\nvalue = [0, 4]\\nclass = No Nd'),\n",
       " Text(599.1157894736842, 142.695, 'oldpeak <= 1.3\\ngini = 0.444\\nsamples = 9\\nvalue = [6, 3]\\nclass = Yes HD'),\n",
       " Text(581.4947368421053, 101.92499999999995, 'chol <= 327.5\\ngini = 0.375\\nsamples = 8\\nvalue = [6, 2]\\nclass = Yes HD'),\n",
       " Text(563.8736842105263, 61.15499999999997, 'gini = 0.0\\nsamples = 5\\nvalue = [5, 0]\\nclass = Yes HD'),\n",
       " Text(599.1157894736842, 61.15499999999997, 'chol <= 364.5\\ngini = 0.444\\nsamples = 3\\nvalue = [1, 2]\\nclass = No Nd'),\n",
       " Text(581.4947368421053, 20.38499999999999, 'gini = 0.0\\nsamples = 2\\nvalue = [0, 2]\\nclass = No Nd'),\n",
       " Text(616.7368421052631, 20.38499999999999, 'gini = 0.0\\nsamples = 1\\nvalue = [1, 0]\\nclass = Yes HD'),\n",
       " Text(616.7368421052631, 101.92499999999995, 'gini = 0.0\\nsamples = 1\\nvalue = [0, 1]\\nclass = No Nd'),\n",
       " Text(616.7368421052631, 183.46499999999997, 'gini = 0.0\\nsamples = 2\\nvalue = [2, 0]\\nclass = Yes HD'),\n",
       " Text(634.3578947368421, 224.235, 'gini = 0.0\\nsamples = 2\\nvalue = [2, 0]\\nclass = Yes HD'),\n",
       " Text(651.9789473684211, 265.005, 'gini = 0.0\\nsamples = 7\\nvalue = [7, 0]\\nclass = Yes HD'),\n",
       " Text(722.4631578947369, 346.54499999999996, 'trestbps <= 135.0\\ngini = 0.444\\nsamples = 6\\nvalue = [2, 4]\\nclass = No Nd'),\n",
       " Text(704.8421052631579, 305.775, 'thal_3.0 <= 0.5\\ngini = 0.444\\nsamples = 3\\nvalue = [2, 1]\\nclass = Yes HD'),\n",
       " Text(687.2210526315789, 265.005, 'gini = 0.0\\nsamples = 1\\nvalue = [0, 1]\\nclass = No Nd'),\n",
       " Text(722.4631578947369, 265.005, 'gini = 0.0\\nsamples = 2\\nvalue = [2, 0]\\nclass = Yes HD'),\n",
       " Text(740.0842105263158, 305.775, 'gini = 0.0\\nsamples = 3\\nvalue = [0, 3]\\nclass = No Nd'),\n",
       " Text(894.2684210526317, 387.315, 'cp_4.0 <= 0.5\\ngini = 0.497\\nsamples = 39\\nvalue = [18, 21]\\nclass = No Nd'),\n",
       " Text(819.3789473684211, 346.54499999999996, 'thalach <= 152.0\\ngini = 0.42\\nsamples = 20\\nvalue = [14, 6]\\nclass = Yes HD'),\n",
       " Text(775.3263157894737, 305.775, 'oldpeak <= 0.8\\ngini = 0.444\\nsamples = 6\\nvalue = [2, 4]\\nclass = No Nd'),\n",
       " Text(757.7052631578947, 265.005, 'cp_2.0 <= 0.5\\ngini = 0.444\\nsamples = 3\\nvalue = [2, 1]\\nclass = Yes HD'),\n",
       " Text(740.0842105263158, 224.235, 'gini = 0.0\\nsamples = 2\\nvalue = [2, 0]\\nclass = Yes HD'),\n",
       " Text(775.3263157894737, 224.235, 'gini = 0.0\\nsamples = 1\\nvalue = [0, 1]\\nclass = No Nd'),\n",
       " Text(792.9473684210527, 265.005, 'gini = 0.0\\nsamples = 3\\nvalue = [0, 3]\\nclass = No Nd'),\n",
       " Text(863.4315789473685, 305.775, 'slope_3.0 <= 0.5\\ngini = 0.245\\nsamples = 14\\nvalue = [12, 2]\\nclass = Yes HD'),\n",
       " Text(828.1894736842105, 265.005, 'age <= 58.5\\ngini = 0.153\\nsamples = 12\\nvalue = [11, 1]\\nclass = Yes HD'),\n",
       " Text(810.5684210526316, 224.235, 'gini = 0.0\\nsamples = 9\\nvalue = [9, 0]\\nclass = Yes HD'),\n",
       " Text(845.8105263157895, 224.235, 'oldpeak <= 0.4\\ngini = 0.444\\nsamples = 3\\nvalue = [2, 1]\\nclass = Yes HD'),\n",
       " Text(828.1894736842105, 183.46499999999997, 'gini = 0.0\\nsamples = 1\\nvalue = [0, 1]\\nclass = No Nd'),\n",
       " Text(863.4315789473685, 183.46499999999997, 'gini = 0.0\\nsamples = 2\\nvalue = [2, 0]\\nclass = Yes HD'),\n",
       " Text(898.6736842105263, 265.005, 'age <= 45.0\\ngini = 0.5\\nsamples = 2\\nvalue = [1, 1]\\nclass = Yes HD'),\n",
       " Text(881.0526315789474, 224.235, 'gini = 0.0\\nsamples = 1\\nvalue = [1, 0]\\nclass = Yes HD'),\n",
       " Text(916.2947368421053, 224.235, 'gini = 0.0\\nsamples = 1\\nvalue = [0, 1]\\nclass = No Nd'),\n",
       " Text(969.1578947368421, 346.54499999999996, 'oldpeak <= 0.45\\ngini = 0.332\\nsamples = 19\\nvalue = [4, 15]\\nclass = No Nd'),\n",
       " Text(951.5368421052632, 305.775, 'age <= 42.0\\ngini = 0.49\\nsamples = 7\\nvalue = [4, 3]\\nclass = Yes HD'),\n",
       " Text(933.9157894736843, 265.005, 'gini = 0.0\\nsamples = 3\\nvalue = [0, 3]\\nclass = No Nd'),\n",
       " Text(969.1578947368421, 265.005, 'gini = 0.0\\nsamples = 4\\nvalue = [4, 0]\\nclass = Yes HD'),\n",
       " Text(986.7789473684211, 305.775, 'gini = 0.0\\nsamples = 12\\nvalue = [0, 12]\\nclass = No Nd')]"
      ]
     },
     "execution_count": 24,
     "metadata": {},
     "output_type": "execute_result"
    },
    {
     "data": {
      "image/png": "[encoded data removed]",
      "text/plain": [
       "<Figure size 1296x648 with 1 Axes>"
      ]
     },
     "metadata": {
      "needs_background": "light"
     },
     "output_type": "display_data"
    }
   ],
   "source": [
    "clf_dt = DecisionTreeClassifier(random_state=42)\n",
    "clf_dt = clf_dt.fit(X_train, y_train)\n",
    "\n",
    "plt.figure(figsize=(18, 9))\n",
    "plot_tree(clf_dt,\n",
    "         filled=True, \n",
    "         rounded=True, \n",
    "         class_names = ['Yes HD', 'No Nd'],\n",
    "         feature_names = X_encoded.columns)"
   ]
  },
  {
   "cell_type": "code",
   "execution_count": 25,
   "id": "23c51212",
   "metadata": {},
   "outputs": [
    {
     "data": {
      "text/plain": [
       "<sklearn.metrics._plot.confusion_matrix.ConfusionMatrixDisplay at 0x7faff719f220>"
      ]
     },
     "execution_count": 25,
     "metadata": {},
     "output_type": "execute_result"
    },
    {
     "data": {
      "image/png": "[encoded data removed]",
      "text/plain": [
       "<Figure size 432x288 with 2 Axes>"
      ]
     },
     "metadata": {
      "needs_background": "light"
     },
     "output_type": "display_data"
    }
   ],
   "source": [
    "plot_confusion_matrix(clf_dt, X_test, y_test, display_labels=['Does not have HD', 'Has HD'])"
   ]
  },
  {
   "cell_type": "markdown",
   "id": "756b94e1",
   "metadata": {},
   "source": [
    "## Cost Complexity Pruning: Visualizing alpha"
   ]
  },
  {
   "cell_type": "code",
   "execution_count": 26,
   "id": "637ab488",
   "metadata": {},
   "outputs": [
    {
     "name": "stdout",
     "output_type": "stream",
     "text": [
      "<class 'numpy.ndarray'>\n"
     ]
    },
    {
     "data": {
      "text/plain": [
       "array([0.        , 0.00295295, 0.003861  , 0.00405405, 0.004095  ,\n",
       "       0.00429358, 0.00578761, 0.00600601, 0.00600601, 0.00600601,\n",
       "       0.00600601, 0.0063593 , 0.00667591, 0.00675676, 0.00757375,\n",
       "       0.00811505, 0.00868726, 0.00889851, 0.01038181, 0.0105777 ,\n",
       "       0.01422475, 0.01604051, 0.01642461, 0.02103075, 0.03680006,\n",
       "       0.03934523])"
      ]
     },
     "execution_count": 26,
     "metadata": {},
     "output_type": "execute_result"
    }
   ],
   "source": [
    "path = clf_dt.cost_complexity_pruning_path(X_train, y_train) # determine values for alpha\n",
    "ccp_alphas = path.ccp_alphas\n",
    "ccp_alphas = ccp_alphas[:-1]\n",
    "\n",
    "print((type(ccp_alphas)))\n",
    "ccp_alphas"
   ]
  },
  {
   "cell_type": "code",
   "execution_count": 27,
   "id": "5eaa4b06",
   "metadata": {},
   "outputs": [
    {
     "name": "stdout",
     "output_type": "stream",
     "text": [
      "[DecisionTreeClassifier(random_state=0), DecisionTreeClassifier(ccp_alpha=0.0029529529529529544, random_state=0), DecisionTreeClassifier(ccp_alpha=0.003861003861003862, random_state=0), DecisionTreeClassifier(ccp_alpha=0.004054054054054055, random_state=0), DecisionTreeClassifier(ccp_alpha=0.004095004095004095, random_state=0), DecisionTreeClassifier(ccp_alpha=0.004293579293579285, random_state=0), DecisionTreeClassifier(ccp_alpha=0.005787605787605791, random_state=0), DecisionTreeClassifier(ccp_alpha=0.006006006006006006, random_state=0), DecisionTreeClassifier(ccp_alpha=0.006006006006006006, random_state=0), DecisionTreeClassifier(ccp_alpha=0.006006006006006006, random_state=0), DecisionTreeClassifier(ccp_alpha=0.006006006006006006, random_state=0), DecisionTreeClassifier(ccp_alpha=0.0063593004769475344, random_state=0), DecisionTreeClassifier(ccp_alpha=0.006675906675906675, random_state=0), DecisionTreeClassifier(ccp_alpha=0.006756756756756757, random_state=0), DecisionTreeClassifier(ccp_alpha=0.007573750220809049, random_state=0), DecisionTreeClassifier(ccp_alpha=0.008115048793014888, random_state=0), DecisionTreeClassifier(ccp_alpha=0.008687258687258686, random_state=0), DecisionTreeClassifier(ccp_alpha=0.008898508898508902, random_state=0), DecisionTreeClassifier(ccp_alpha=0.01038181038181038, random_state=0), DecisionTreeClassifier(ccp_alpha=0.010577695922523535, random_state=0), DecisionTreeClassifier(ccp_alpha=0.014224751066856332, random_state=0), DecisionTreeClassifier(ccp_alpha=0.01604051214729746, random_state=0), DecisionTreeClassifier(ccp_alpha=0.01642461319880674, random_state=0), DecisionTreeClassifier(ccp_alpha=0.0210307473465368, random_state=0), DecisionTreeClassifier(ccp_alpha=0.036800058669932925, random_state=0), DecisionTreeClassifier(ccp_alpha=0.039345232893619964, random_state=0)]\n"
     ]
    }
   ],
   "source": [
    "clf_dts = []\n",
    "\n",
    "for ccp_alpha in ccp_alphas:\n",
    "    clf_dt = DecisionTreeClassifier(random_state=0, ccp_alpha=ccp_alpha)\n",
    "    \n",
    "    clf_dt.fit(X_train, y_train)\n",
    "    clf_dts.append(clf_dt)\n",
    "    \n",
    "print(clf_dts)"
   ]
  },
  {
   "cell_type": "code",
   "execution_count": 28,
   "id": "cdc7fc94",
   "metadata": {},
   "outputs": [
    {
     "name": "stdout",
     "output_type": "stream",
     "text": [
      "[1.0, 0.9954954954954955, 0.9819819819819819, 0.9774774774774775, 0.972972972972973, 0.9594594594594594, 0.9324324324324325, 0.9099099099099099, 0.9099099099099099, 0.9099099099099099, 0.9099099099099099, 0.9099099099099099, 0.9054054054054054, 0.9009009009009009, 0.9009009009009009, 0.8918918918918919, 0.8828828828828829, 0.8783783783783784, 0.8693693693693694, 0.8693693693693694, 0.8513513513513513, 0.8423423423423423, 0.8108108108108109, 0.7747747747747747, 0.7702702702702703, 0.7567567567567568]\n",
      "[0.7466666666666667, 0.7466666666666667, 0.7466666666666667, 0.7466666666666667, 0.7466666666666667, 0.76, 0.76, 0.7866666666666666, 0.7866666666666666, 0.7866666666666666, 0.7866666666666666, 0.7866666666666666, 0.7866666666666666, 0.7866666666666666, 0.7866666666666666, 0.8, 0.8, 0.8133333333333334, 0.8133333333333334, 0.8133333333333334, 0.8266666666666667, 0.8266666666666667, 0.8533333333333334, 0.8533333333333334, 0.7866666666666666, 0.7066666666666667]\n"
     ]
    }
   ],
   "source": [
    "# Let's graph the accuracy of the trees\n",
    "\n",
    "train_scores = [clf_dt.score(X_train, y_train) for clf_dt in clf_dts]\n",
    "test_scores = [clf_dt.score(X_test, y_test) for clf_dt in clf_dts]\n",
    "\n",
    "print(train_scores)\n",
    "print(test_scores)"
   ]
  },
  {
   "cell_type": "code",
   "execution_count": 29,
   "id": "6795d3c9",
   "metadata": {},
   "outputs": [
    {
     "data": {
      "text/plain": [
       "<matplotlib.legend.Legend at 0x7faff7bf2d60>"
      ]
     },
     "execution_count": 29,
     "metadata": {},
     "output_type": "execute_result"
    },
    {
     "data": {
      "image/png": "[encoded data removed]",
      "text/plain": [
       "<Figure size 432x288 with 1 Axes>"
      ]
     },
     "metadata": {
      "needs_background": "light"
     },
     "output_type": "display_data"
    }
   ],
   "source": [
    "fig, ax = plt.subplots()\n",
    "ax.set_xlabel('alpha')\n",
    "ax.set_ylabel('accuracy')\n",
    "ax.set_title('Accuracy vs alpha for training and testing data')\n",
    "ax.plot(ccp_alphas, train_scores, label='train', marker='o')\n",
    "ax.plot(ccp_alphas, test_scores, label='test', marker='o')\n",
    "ax.legend()"
   ]
  },
  {
   "cell_type": "markdown",
   "id": "1a6c5cfe",
   "metadata": {},
   "source": [
    "## Cost Complexity Pruning: Cross-validation"
   ]
  },
  {
   "cell_type": "code",
   "execution_count": 30,
   "id": "7355866c",
   "metadata": {},
   "outputs": [
    {
     "name": "stdout",
     "output_type": "stream",
     "text": [
      "[0.53333333 0.86666667 0.75       0.75       0.77272727]\n"
     ]
    }
   ],
   "source": [
    "clf_dt = DecisionTreeClassifier(random_state=42, ccp_alpha=0.016)\n",
    "scores = cross_val_score(clf_dt, X_train, y_train, cv=5)\n",
    "\n",
    "print(scores)"
   ]
  },
  {
   "cell_type": "code",
   "execution_count": 31,
   "id": "6ae283cb",
   "metadata": {},
   "outputs": [
    {
     "data": {
      "text/html": [
       "<div>\n",
       "<style scoped>\n",
       "    .dataframe tbody tr th:only-of-type {\n",
       "        vertical-align: middle;\n",
       "    }\n",
       "\n",
       "    .dataframe tbody tr th {\n",
       "        vertical-align: top;\n",
       "    }\n",
       "\n",
       "    .dataframe thead th {\n",
       "        text-align: right;\n",
       "    }\n",
       "</style>\n",
       "<table border=\"1\" class=\"dataframe\">\n",
       "  <thead>\n",
       "    <tr style=\"text-align: right;\">\n",
       "      <th></th>\n",
       "      <th>tree</th>\n",
       "      <th>accuracy</th>\n",
       "    </tr>\n",
       "  </thead>\n",
       "  <tbody>\n",
       "    <tr>\n",
       "      <th>0</th>\n",
       "      <td>0</td>\n",
       "      <td>0.533333</td>\n",
       "    </tr>\n",
       "    <tr>\n",
       "      <th>1</th>\n",
       "      <td>1</td>\n",
       "      <td>0.866667</td>\n",
       "    </tr>\n",
       "    <tr>\n",
       "      <th>2</th>\n",
       "      <td>2</td>\n",
       "      <td>0.750000</td>\n",
       "    </tr>\n",
       "    <tr>\n",
       "      <th>3</th>\n",
       "      <td>3</td>\n",
       "      <td>0.750000</td>\n",
       "    </tr>\n",
       "    <tr>\n",
       "      <th>4</th>\n",
       "      <td>4</td>\n",
       "      <td>0.772727</td>\n",
       "    </tr>\n",
       "  </tbody>\n",
       "</table>\n",
       "</div>"
      ],
      "text/plain": [
       "   tree  accuracy\n",
       "0     0  0.533333\n",
       "1     1  0.866667\n",
       "2     2  0.750000\n",
       "3     3  0.750000\n",
       "4     4  0.772727"
      ]
     },
     "execution_count": 31,
     "metadata": {},
     "output_type": "execute_result"
    }
   ],
   "source": [
    "df = pd.DataFrame(data={'tree': range(5), 'accuracy': scores})\n",
    "\n",
    "df"
   ]
  },
  {
   "cell_type": "code",
   "execution_count": 32,
   "id": "b6bc7818",
   "metadata": {},
   "outputs": [
    {
     "data": {
      "text/plain": [
       "<AxesSubplot:xlabel='tree'>"
      ]
     },
     "execution_count": 32,
     "metadata": {},
     "output_type": "execute_result"
    },
    {
     "data": {
      "image/png": "[encoded data removed]",
      "text/plain": [
       "<Figure size 432x288 with 1 Axes>"
      ]
     },
     "metadata": {
      "needs_background": "light"
     },
     "output_type": "display_data"
    }
   ],
   "source": [
    "df.plot(x='tree', y='accuracy', marker='o', c='g')"
   ]
  },
  {
   "cell_type": "markdown",
   "id": "3de7d558",
   "metadata": {},
   "source": [
    "Let's use cross validation to find the optimal value for alpha"
   ]
  },
  {
   "cell_type": "code",
   "execution_count": 33,
   "id": "b3ce2cf0",
   "metadata": {},
   "outputs": [
    {
     "data": {
      "text/html": [
       "<div>\n",
       "<style scoped>\n",
       "    .dataframe tbody tr th:only-of-type {\n",
       "        vertical-align: middle;\n",
       "    }\n",
       "\n",
       "    .dataframe tbody tr th {\n",
       "        vertical-align: top;\n",
       "    }\n",
       "\n",
       "    .dataframe thead th {\n",
       "        text-align: right;\n",
       "    }\n",
       "</style>\n",
       "<table border=\"1\" class=\"dataframe\">\n",
       "  <thead>\n",
       "    <tr style=\"text-align: right;\">\n",
       "      <th></th>\n",
       "      <th>Alpha</th>\n",
       "      <th>Mean accuracy</th>\n",
       "      <th>Standard Deviation</th>\n",
       "    </tr>\n",
       "  </thead>\n",
       "  <tbody>\n",
       "    <tr>\n",
       "      <th>0</th>\n",
       "      <td>0.000000</td>\n",
       "      <td>0.688990</td>\n",
       "      <td>0.074431</td>\n",
       "    </tr>\n",
       "    <tr>\n",
       "      <th>1</th>\n",
       "      <td>0.002953</td>\n",
       "      <td>0.688990</td>\n",
       "      <td>0.074431</td>\n",
       "    </tr>\n",
       "    <tr>\n",
       "      <th>2</th>\n",
       "      <td>0.003861</td>\n",
       "      <td>0.697879</td>\n",
       "      <td>0.077793</td>\n",
       "    </tr>\n",
       "    <tr>\n",
       "      <th>3</th>\n",
       "      <td>0.004054</td>\n",
       "      <td>0.697879</td>\n",
       "      <td>0.077793</td>\n",
       "    </tr>\n",
       "    <tr>\n",
       "      <th>4</th>\n",
       "      <td>0.004095</td>\n",
       "      <td>0.697879</td>\n",
       "      <td>0.077793</td>\n",
       "    </tr>\n",
       "    <tr>\n",
       "      <th>5</th>\n",
       "      <td>0.004294</td>\n",
       "      <td>0.697879</td>\n",
       "      <td>0.077793</td>\n",
       "    </tr>\n",
       "    <tr>\n",
       "      <th>6</th>\n",
       "      <td>0.005788</td>\n",
       "      <td>0.720606</td>\n",
       "      <td>0.090080</td>\n",
       "    </tr>\n",
       "    <tr>\n",
       "      <th>7</th>\n",
       "      <td>0.006006</td>\n",
       "      <td>0.720606</td>\n",
       "      <td>0.090080</td>\n",
       "    </tr>\n",
       "    <tr>\n",
       "      <th>8</th>\n",
       "      <td>0.006006</td>\n",
       "      <td>0.720606</td>\n",
       "      <td>0.090080</td>\n",
       "    </tr>\n",
       "    <tr>\n",
       "      <th>9</th>\n",
       "      <td>0.006006</td>\n",
       "      <td>0.720606</td>\n",
       "      <td>0.090080</td>\n",
       "    </tr>\n",
       "    <tr>\n",
       "      <th>10</th>\n",
       "      <td>0.006006</td>\n",
       "      <td>0.720606</td>\n",
       "      <td>0.090080</td>\n",
       "    </tr>\n",
       "    <tr>\n",
       "      <th>11</th>\n",
       "      <td>0.006359</td>\n",
       "      <td>0.720606</td>\n",
       "      <td>0.090080</td>\n",
       "    </tr>\n",
       "    <tr>\n",
       "      <th>12</th>\n",
       "      <td>0.006676</td>\n",
       "      <td>0.720606</td>\n",
       "      <td>0.090080</td>\n",
       "    </tr>\n",
       "    <tr>\n",
       "      <th>13</th>\n",
       "      <td>0.006757</td>\n",
       "      <td>0.720606</td>\n",
       "      <td>0.090080</td>\n",
       "    </tr>\n",
       "    <tr>\n",
       "      <th>14</th>\n",
       "      <td>0.007574</td>\n",
       "      <td>0.716061</td>\n",
       "      <td>0.102459</td>\n",
       "    </tr>\n",
       "    <tr>\n",
       "      <th>15</th>\n",
       "      <td>0.008115</td>\n",
       "      <td>0.725051</td>\n",
       "      <td>0.097426</td>\n",
       "    </tr>\n",
       "    <tr>\n",
       "      <th>16</th>\n",
       "      <td>0.008687</td>\n",
       "      <td>0.725051</td>\n",
       "      <td>0.097426</td>\n",
       "    </tr>\n",
       "    <tr>\n",
       "      <th>17</th>\n",
       "      <td>0.008899</td>\n",
       "      <td>0.725051</td>\n",
       "      <td>0.097426</td>\n",
       "    </tr>\n",
       "    <tr>\n",
       "      <th>18</th>\n",
       "      <td>0.010382</td>\n",
       "      <td>0.725253</td>\n",
       "      <td>0.078664</td>\n",
       "    </tr>\n",
       "    <tr>\n",
       "      <th>19</th>\n",
       "      <td>0.010578</td>\n",
       "      <td>0.729798</td>\n",
       "      <td>0.079304</td>\n",
       "    </tr>\n",
       "    <tr>\n",
       "      <th>20</th>\n",
       "      <td>0.014225</td>\n",
       "      <td>0.747778</td>\n",
       "      <td>0.091395</td>\n",
       "    </tr>\n",
       "    <tr>\n",
       "      <th>21</th>\n",
       "      <td>0.016041</td>\n",
       "      <td>0.730000</td>\n",
       "      <td>0.108218</td>\n",
       "    </tr>\n",
       "    <tr>\n",
       "      <th>22</th>\n",
       "      <td>0.016425</td>\n",
       "      <td>0.730000</td>\n",
       "      <td>0.108218</td>\n",
       "    </tr>\n",
       "    <tr>\n",
       "      <th>23</th>\n",
       "      <td>0.021031</td>\n",
       "      <td>0.698182</td>\n",
       "      <td>0.109584</td>\n",
       "    </tr>\n",
       "    <tr>\n",
       "      <th>24</th>\n",
       "      <td>0.036800</td>\n",
       "      <td>0.666970</td>\n",
       "      <td>0.076526</td>\n",
       "    </tr>\n",
       "    <tr>\n",
       "      <th>25</th>\n",
       "      <td>0.039345</td>\n",
       "      <td>0.666970</td>\n",
       "      <td>0.076526</td>\n",
       "    </tr>\n",
       "  </tbody>\n",
       "</table>\n",
       "</div>"
      ],
      "text/plain": [
       "       Alpha  Mean accuracy  Standard Deviation\n",
       "0   0.000000       0.688990            0.074431\n",
       "1   0.002953       0.688990            0.074431\n",
       "2   0.003861       0.697879            0.077793\n",
       "3   0.004054       0.697879            0.077793\n",
       "4   0.004095       0.697879            0.077793\n",
       "5   0.004294       0.697879            0.077793\n",
       "6   0.005788       0.720606            0.090080\n",
       "7   0.006006       0.720606            0.090080\n",
       "8   0.006006       0.720606            0.090080\n",
       "9   0.006006       0.720606            0.090080\n",
       "10  0.006006       0.720606            0.090080\n",
       "11  0.006359       0.720606            0.090080\n",
       "12  0.006676       0.720606            0.090080\n",
       "13  0.006757       0.720606            0.090080\n",
       "14  0.007574       0.716061            0.102459\n",
       "15  0.008115       0.725051            0.097426\n",
       "16  0.008687       0.725051            0.097426\n",
       "17  0.008899       0.725051            0.097426\n",
       "18  0.010382       0.725253            0.078664\n",
       "19  0.010578       0.729798            0.079304\n",
       "20  0.014225       0.747778            0.091395\n",
       "21  0.016041       0.730000            0.108218\n",
       "22  0.016425       0.730000            0.108218\n",
       "23  0.021031       0.698182            0.109584\n",
       "24  0.036800       0.666970            0.076526\n",
       "25  0.039345       0.666970            0.076526"
      ]
     },
     "execution_count": 33,
     "metadata": {},
     "output_type": "execute_result"
    }
   ],
   "source": [
    "alpha_loop_values = []\n",
    "\n",
    "for ccp_alpha in ccp_alphas: \n",
    "    clf_dt = DecisionTreeClassifier(random_state=0, ccp_alpha=ccp_alpha)\n",
    "    scores = cross_val_score(clf_dt, X_train, y_train, cv=5)\n",
    "    alpha_loop_values.append([ccp_alpha, np.mean(scores), np.std(scores)])\n",
    "    \n",
    "alpha_results = pd.DataFrame(alpha_loop_values, columns=['Alpha', 'Mean accuracy', 'Standard Deviation'])\n",
    "\n",
    "alpha_results"
   ]
  },
  {
   "cell_type": "code",
   "execution_count": 34,
   "id": "80b7b442",
   "metadata": {},
   "outputs": [
    {
     "data": {
      "text/plain": [
       "<AxesSubplot:xlabel='Alpha'>"
      ]
     },
     "execution_count": 34,
     "metadata": {},
     "output_type": "execute_result"
    },
    {
     "data": {
      "image/png": "[encoded data removed]",
      "text/plain": [
       "<Figure size 432x288 with 1 Axes>"
      ]
     },
     "metadata": {
      "needs_background": "light"
     },
     "output_type": "display_data"
    }
   ],
   "source": [
    "alpha_results.plot(x='Alpha', y='Mean accuracy', yerr='Standard Deviation', marker='o')"
   ]
  },
  {
   "cell_type": "code",
   "execution_count": 36,
   "id": "3881edeb",
   "metadata": {},
   "outputs": [
    {
     "data": {
      "text/plain": [
       "<sklearn.metrics._plot.confusion_matrix.ConfusionMatrixDisplay at 0x7faff7d844c0>"
      ]
     },
     "execution_count": 36,
     "metadata": {},
     "output_type": "execute_result"
    },
    {
     "data": {
      "image/png": "[encoded data removed]",
      "text/plain": [
       "<Figure size 432x288 with 2 Axes>"
      ]
     },
     "metadata": {
      "needs_background": "light"
     },
     "output_type": "display_data"
    }
   ],
   "source": [
    "ideal_ccp_alpha = 0.014225\n",
    "\n",
    "clf_dt_pruned = DecisionTreeClassifier(random_state=42, ccp_alpha=ideal_ccp_alpha)\n",
    "clf_dt_pruned = clf_dt_pruned.fit(X_train, y_train)\n",
    "\n",
    "plot_confusion_matrix(clf_dt_pruned, X_test, y_test, display_labels=['Does not have HD', 'Has HD'])"
   ]
  },
  {
   "cell_type": "code",
   "execution_count": 38,
   "id": "a1d23925",
   "metadata": {
    "scrolled": false
   },
   "outputs": [
    {
     "data": {
      "text/plain": [
       "[Text(460.35, 428.08500000000004, 'ca_0.0 <= 0.5\\ngini = 0.498\\nsamples = 222\\nvalue = [118, 104]\\nclass = Does not have HD'),\n",
       " Text(251.10000000000002, 305.775, 'cp_4.0 <= 0.5\\ngini = 0.346\\nsamples = 90\\nvalue = [20, 70]\\nclass = Has HD'),\n",
       " Text(167.4, 183.46500000000003, 'oldpeak <= 0.55\\ngini = 0.499\\nsamples = 31\\nvalue = [16, 15]\\nclass = Does not have HD'),\n",
       " Text(83.7, 61.15499999999997, 'gini = 0.401\\nsamples = 18\\nvalue = [13, 5]\\nclass = Does not have HD'),\n",
       " Text(251.10000000000002, 61.15499999999997, 'gini = 0.355\\nsamples = 13\\nvalue = [3, 10]\\nclass = Has HD'),\n",
       " Text(334.8, 183.46500000000003, 'gini = 0.126\\nsamples = 59\\nvalue = [4, 55]\\nclass = Has HD'),\n",
       " Text(669.6, 305.775, 'thal_7.0 <= 0.5\\ngini = 0.382\\nsamples = 132\\nvalue = [98, 34]\\nclass = Does not have HD'),\n",
       " Text(502.20000000000005, 183.46500000000003, 'oldpeak <= 2.7\\ngini = 0.24\\nsamples = 93\\nvalue = [80, 13]\\nclass = Does not have HD'),\n",
       " Text(418.5, 61.15499999999997, 'gini = 0.185\\nsamples = 87\\nvalue = [78, 9]\\nclass = Does not have HD'),\n",
       " Text(585.9, 61.15499999999997, 'gini = 0.444\\nsamples = 6\\nvalue = [2, 4]\\nclass = Has HD'),\n",
       " Text(837.0, 183.46500000000003, 'cp_4.0 <= 0.5\\ngini = 0.497\\nsamples = 39\\nvalue = [18, 21]\\nclass = Has HD'),\n",
       " Text(753.3000000000001, 61.15499999999997, 'gini = 0.42\\nsamples = 20\\nvalue = [14, 6]\\nclass = Does not have HD'),\n",
       " Text(920.7, 61.15499999999997, 'gini = 0.332\\nsamples = 19\\nvalue = [4, 15]\\nclass = Has HD')]"
      ]
     },
     "execution_count": 38,
     "metadata": {},
     "output_type": "execute_result"
    },
    {
     "data": {
      "image/png": "[encoded data removed]",
      "text/plain": [
       "<Figure size 1296x648 with 1 Axes>"
      ]
     },
     "metadata": {
      "needs_background": "light"
     },
     "output_type": "display_data"
    }
   ],
   "source": [
    "plt.figure(figsize=(18, 9))\n",
    "plot_tree(clf_dt_pruned,\n",
    "         filled=True,\n",
    "         rounded=True,\n",
    "         class_names = ['Does not have HD', 'Has HD'], \n",
    "         feature_names = X_encoded.columns)"
   ]
  }
 ],
 "metadata": {
  "kernelspec": {
   "display_name": "Python 3 (ipykernel)",
   "language": "python",
   "name": "python3"
  },
  "language_info": {
   "codemirror_mode": {
    "name": "ipython",
    "version": 3
   },
   "file_extension": ".py",
   "mimetype": "text/x-python",
   "name": "python",
   "nbconvert_exporter": "python",
   "pygments_lexer": "ipython3",
   "version": "3.9.7"
  }
 },
 "nbformat": 4,
 "nbformat_minor": 5
}
